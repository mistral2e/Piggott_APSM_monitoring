{
 "cells": [
  {
   "cell_type": "code",
   "execution_count": 1,
   "metadata": {},
   "outputs": [
    {
     "data": {
      "text/html": [
       "<style>.container { width:100% !important; }</style>"
      ],
      "text/plain": [
       "<IPython.core.display.HTML object>"
      ]
     },
     "metadata": {},
     "output_type": "display_data"
    }
   ],
   "source": [
    "from IPython.core.display import display, HTML\n",
    "display(HTML(\"<style>.container { width:100% !important; }</style>\"))"
   ]
  },
  {
   "cell_type": "code",
   "execution_count": 3,
   "metadata": {},
   "outputs": [
    {
     "name": "stdout",
     "output_type": "stream",
     "text": [
      "parseCC.py\n",
      "GetFrequencyFromZCfile.py\n",
      "VariablesExperiment.py\n",
      "importLibs0.py\n",
      "FFT.py\n",
      "DisplayAndCut.py\n"
     ]
    }
   ],
   "source": [
    "from pathlib import Path\n",
    "folder='./Helper_scripts/'\n",
    "\n",
    "importLibs=1\n",
    "for path in Path(folder).rglob('*.py'):\n",
    "    print(path.name)\n",
    "    exec(open(path).read())"
   ]
  },
  {
   "cell_type": "code",
   "execution_count": 4,
   "metadata": {},
   "outputs": [],
   "source": [
    "VariablesExperiment(20210729)"
   ]
  },
  {
   "cell_type": "code",
   "execution_count": 5,
   "metadata": {},
   "outputs": [],
   "source": [
    "def FFT_ASCIIscope_mov2(scope_file,**kwargs):\n",
    "    zeroN=kwargs.get('zeroN', 0)\n",
    "    zeroNrel=kwargs.get('zeroNrel', None)\n",
    "    start=kwargs.get('ti',0)\n",
    "    end=kwargs.get('tf',100)\n",
    "    window=kwargs.get('window','blackman')\n",
    "    scope=pd.read_csv(scope_file,sep=\",\",skiprows=[0],names=['time','sig1'],header=0)\n",
    "    filter=(scope['time']>start)&(scope['time']<end)\n",
    "    scope=scope.loc[filter]\n",
    "    N=scope.shape[0] #samples\n",
    "    totalN = N+zeroN + zeroNrel*N\n",
    "    y=scope['sig1']\n",
    "    if(window=='blackman'):\n",
    "        w=np.blackman(N)\n",
    "        y=w*y\n",
    "    T0=scope['time'].iloc[[0,-1]].diff().max()\n",
    "    delta_f=1/T0\n",
    "    f_max=(1/T0)*N//2\n",
    "    yf = np.fft.fft(y,totalN)[:totalN//2]\n",
    "    yf=1.0/N * np.abs(yf) #Absolute and Normalization\n",
    "    xf = np.linspace(0.0, f_max,totalN//2 )\n",
    "    print(N,totalN,xf[1],xf.shape,yf.shape)\n",
    "    return xf,yf, delta_f, totalN"
   ]
  },
  {
   "cell_type": "code",
   "execution_count": 6,
   "metadata": {},
   "outputs": [],
   "source": [
    "scope_dat['ti']=0.2\n",
    "scope_dat['tf']=0.6"
   ]
  },
  {
   "cell_type": "markdown",
   "metadata": {},
   "source": [
    "## Get Average electrical Frequency with FFT"
   ]
  },
  {
   "cell_type": "code",
   "execution_count": 7,
   "metadata": {},
   "outputs": [
    {
     "name": "stdout",
     "output_type": "stream",
     "text": [
      "0\n",
      "200000 10200000 0.04901981353329677 (5100000,) (5100000,)\n",
      "1\n",
      "200000 10200000 0.04901981353329677 (5100000,) (5100000,)\n",
      "2\n",
      "200000 10200000 0.04901981353329677 (5100000,) (5100000,)\n",
      "3\n",
      "200000 10200000 0.04901981353329677 (5100000,) (5100000,)\n",
      "4\n",
      "200000 10200000 0.04901981353329677 (5100000,) (5100000,)\n",
      "5\n",
      "200000 10200000 0.04901981353329677 (5100000,) (5100000,)\n",
      "6\n",
      "200000 10200000 0.04901981353329677 (5100000,) (5100000,)\n",
      "7\n",
      "200000 10200000 0.04901981353329677 (5100000,) (5100000,)\n",
      "8\n",
      "200000 10200000 0.04901981353329677 (5100000,) (5100000,)\n",
      "9\n",
      "200000 10200000 0.04901981353329677 (5100000,) (5100000,)\n",
      "10\n",
      "200000 10200000 0.04901981353329677 (5100000,) (5100000,)\n",
      "11\n",
      "200000 10200000 0.04901981353329677 (5100000,) (5100000,)\n",
      "12\n",
      "200000 10200000 0.04901981353329677 (5100000,) (5100000,)\n"
     ]
    }
   ],
   "source": [
    "scope_dat['index_copy']=scope_dat.index\n",
    "for index, row in scope_dat.iterrows():    \n",
    "    print(index)\n",
    "    file=row['ScopeFile']\n",
    "    xf,yf, delta_f, totalN=FFT_ASCIIscope_mov2(file,zeroNrel=2*25,ti=row['ti'],tf=row['tf']) #Zero Padding\n",
    "    scope_dat.loc[index,'f_mag_max']=xf[np.where(yf.max()==yf)][0]\n",
    "    scope_dat.loc[index,'m_fmax']=yf.max()"
   ]
  },
  {
   "cell_type": "markdown",
   "metadata": {},
   "source": [
    "## Calculate U_RMS"
   ]
  },
  {
   "cell_type": "code",
   "execution_count": 8,
   "metadata": {},
   "outputs": [],
   "source": [
    "for index, row in scope_dat.iterrows():\n",
    "    scope=pd.read_csv(row['ScopeFile'],sep=\",\",skiprows=[0],names=['time','sig1'],header=0)\n",
    "    filter=(scope['time']>row['ti'])&(scope['time']<(row['tf']))\n",
    "    u=scope.loc[filter,'sig1']\n",
    "    rms = np.sqrt(np.mean(u**2))\n",
    "    #print(rms)\n",
    "    scope_dat.loc[index,'U_rms']=rms"
   ]
  },
  {
   "cell_type": "code",
   "execution_count": 9,
   "metadata": {},
   "outputs": [],
   "source": [
    "# normieren\n",
    "scope_dat['u']=scope_dat['U_rms']/scope_dat['f_mag_max']*31"
   ]
  },
  {
   "cell_type": "code",
   "execution_count": 10,
   "metadata": {},
   "outputs": [
    {
     "data": {
      "text/html": [
       "<div>\n",
       "<style scoped>\n",
       "    .dataframe tbody tr th:only-of-type {\n",
       "        vertical-align: middle;\n",
       "    }\n",
       "\n",
       "    .dataframe tbody tr th {\n",
       "        vertical-align: top;\n",
       "    }\n",
       "\n",
       "    .dataframe thead th {\n",
       "        text-align: right;\n",
       "    }\n",
       "</style>\n",
       "<table border=\"1\" class=\"dataframe\">\n",
       "  <thead>\n",
       "    <tr style=\"text-align: right;\">\n",
       "      <th></th>\n",
       "      <th>Symbol</th>\n",
       "      <th>u</th>\n",
       "      <th>f_mag_max</th>\n",
       "    </tr>\n",
       "  </thead>\n",
       "  <tbody>\n",
       "    <tr>\n",
       "      <th>0</th>\n",
       "      <td>parallel</td>\n",
       "      <td>28.464485</td>\n",
       "      <td>31.029542</td>\n",
       "    </tr>\n",
       "    <tr>\n",
       "      <th>1</th>\n",
       "      <td>parallel</td>\n",
       "      <td>28.475104</td>\n",
       "      <td>31.176601</td>\n",
       "    </tr>\n",
       "    <tr>\n",
       "      <th>2</th>\n",
       "      <td>parallel</td>\n",
       "      <td>28.461533</td>\n",
       "      <td>31.372681</td>\n",
       "    </tr>\n",
       "    <tr>\n",
       "      <th>3</th>\n",
       "      <td>parallel</td>\n",
       "      <td>28.457507</td>\n",
       "      <td>31.225621</td>\n",
       "    </tr>\n",
       "    <tr>\n",
       "      <th>4</th>\n",
       "      <td>parallel</td>\n",
       "      <td>28.419929</td>\n",
       "      <td>31.274641</td>\n",
       "    </tr>\n",
       "    <tr>\n",
       "      <th>5</th>\n",
       "      <td>parallel</td>\n",
       "      <td>28.420889</td>\n",
       "      <td>31.274641</td>\n",
       "    </tr>\n",
       "    <tr>\n",
       "      <th>6</th>\n",
       "      <td>Stator_Inclined</td>\n",
       "      <td>28.514788</td>\n",
       "      <td>31.225621</td>\n",
       "    </tr>\n",
       "    <tr>\n",
       "      <th>7</th>\n",
       "      <td>Stator_Inclined</td>\n",
       "      <td>28.478948</td>\n",
       "      <td>31.127582</td>\n",
       "    </tr>\n",
       "    <tr>\n",
       "      <th>8</th>\n",
       "      <td>Stator_Inclined</td>\n",
       "      <td>28.445594</td>\n",
       "      <td>31.176601</td>\n",
       "    </tr>\n",
       "    <tr>\n",
       "      <th>9</th>\n",
       "      <td>Stator_Inclined</td>\n",
       "      <td>28.489017</td>\n",
       "      <td>31.176601</td>\n",
       "    </tr>\n",
       "    <tr>\n",
       "      <th>10</th>\n",
       "      <td>Stator_Inclined</td>\n",
       "      <td>28.509607</td>\n",
       "      <td>31.176601</td>\n",
       "    </tr>\n",
       "    <tr>\n",
       "      <th>11</th>\n",
       "      <td>Stator_Inclined</td>\n",
       "      <td>28.353475</td>\n",
       "      <td>30.882483</td>\n",
       "    </tr>\n",
       "    <tr>\n",
       "      <th>12</th>\n",
       "      <td>Stator_Inclined</td>\n",
       "      <td>28.458587</td>\n",
       "      <td>31.323661</td>\n",
       "    </tr>\n",
       "  </tbody>\n",
       "</table>\n",
       "</div>"
      ],
      "text/plain": [
       "             Symbol          u  f_mag_max\n",
       "0          parallel  28.464485  31.029542\n",
       "1          parallel  28.475104  31.176601\n",
       "2          parallel  28.461533  31.372681\n",
       "3          parallel  28.457507  31.225621\n",
       "4          parallel  28.419929  31.274641\n",
       "5          parallel  28.420889  31.274641\n",
       "6   Stator_Inclined  28.514788  31.225621\n",
       "7   Stator_Inclined  28.478948  31.127582\n",
       "8   Stator_Inclined  28.445594  31.176601\n",
       "9   Stator_Inclined  28.489017  31.176601\n",
       "10  Stator_Inclined  28.509607  31.176601\n",
       "11  Stator_Inclined  28.353475  30.882483\n",
       "12  Stator_Inclined  28.458587  31.323661"
      ]
     },
     "execution_count": 10,
     "metadata": {},
     "output_type": "execute_result"
    }
   ],
   "source": [
    "scope_dat.loc[:,['Symbol','u','f_mag_max']]"
   ]
  },
  {
   "cell_type": "code",
   "execution_count": 19,
   "metadata": {
    "scrolled": false
   },
   "outputs": [
    {
     "data": {
      "image/png": "[encoded data removed]",
      "text/plain": [
       "<Figure size 720x288 with 2 Axes>"
      ]
     },
     "metadata": {
      "needs_background": "light"
     },
     "output_type": "display_data"
    }
   ],
   "source": [
    "fig, ax0 = plt.subplots(1,2,figsize = (10,4))\n",
    "#width=0.2\n",
    "for i in range(2):\n",
    "    ax=ax0[i]\n",
    "    label1='Stator_Inclined'\n",
    "    label2='Parallel Rotor Stator'\n",
    "    x=np.arange(scope_dat.shape[0])\n",
    "    if(i==0):\n",
    "        label_u='U_rms'\n",
    "        label_ut=label_u\n",
    "    if(i==1):\n",
    "        label_u='u'\n",
    "        label_ut='u (normalized)'\n",
    "    data2=scope_dat.loc[scope_dat['Symbol']=='Stator_Inclined',label_u]\n",
    "    ax.bar(np.arange(len(data2)),data2,label=label1,color='C1')\n",
    "    data2=scope_dat.loc[scope_dat['Symbol']=='parallel',label_u]\n",
    "    bar_g=ax.bar(np.arange(len(data2))+7,data2,label=label2,color='C0')\n",
    "    ax.set_ylim(28.0,29.0)\n",
    "    ax.set_xticks(x)\n",
    "    #ax.legend()\n",
    "    ax.set_title(label_ut)\n",
    "    ax.set_xlabel('Measurement Number')\n",
    "    ax.set_ylabel('Generator Voltage U_L1L2 [V]')\n",
    "    ax.grid(True)\n",
    "fig.tight_layout()\n",
    "plt.savefig(\"U_StatorInclination.svg\",dpi=600)\n",
    "plt.show()"
   ]
  },
  {
   "cell_type": "markdown",
   "metadata": {},
   "source": [
    "## Calculate Voltage Reduction"
   ]
  },
  {
   "cell_type": "code",
   "execution_count": 16,
   "metadata": {
    "scrolled": true
   },
   "outputs": [
    {
     "data": {
      "text/plain": [
       "-0.04963261242752992"
      ]
     },
     "execution_count": 16,
     "metadata": {},
     "output_type": "execute_result"
    }
   ],
   "source": [
    "scope_dat.loc[scope_dat['Symbol']=='Stator_Inclined','U_rms'].mean()-scope_dat.loc[scope_dat['Symbol']=='parallel','U_rms'].mean()"
   ]
  },
  {
   "cell_type": "code",
   "execution_count": 17,
   "metadata": {},
   "outputs": [
    {
     "data": {
      "text/plain": [
       "28.651313858246066"
      ]
     },
     "execution_count": 17,
     "metadata": {},
     "output_type": "execute_result"
    }
   ],
   "source": [
    "scope_dat.loc[scope_dat['Symbol']=='Stator_Inclined','U_rms'].median()"
   ]
  },
  {
   "cell_type": "code",
   "execution_count": 18,
   "metadata": {},
   "outputs": [
    {
     "data": {
      "text/plain": [
       "28.656940788791392"
      ]
     },
     "execution_count": 18,
     "metadata": {},
     "output_type": "execute_result"
    }
   ],
   "source": [
    "scope_dat.loc[scope_dat['Symbol']=='parallel','U_rms'].mean()"
   ]
  },
  {
   "cell_type": "code",
   "execution_count": null,
   "metadata": {},
   "outputs": [],
   "source": []
  }
 ],
 "metadata": {
  "kernelspec": {
   "display_name": "Python 3",
   "language": "python",
   "name": "python3"
  },
  "language_info": {
   "codemirror_mode": {
    "name": "ipython",
    "version": 3
   },
   "file_extension": ".py",
   "mimetype": "text/x-python",
   "name": "python",
   "nbconvert_exporter": "python",
   "pygments_lexer": "ipython3",
   "version": "3.7.7"
  }
 },
 "nbformat": 4,
 "nbformat_minor": 4
}
