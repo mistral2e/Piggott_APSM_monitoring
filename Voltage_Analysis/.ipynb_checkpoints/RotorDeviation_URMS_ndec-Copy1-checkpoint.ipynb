{
 "cells": [
  {
   "cell_type": "markdown",
   "metadata": {},
   "source": [
    "# Analysis U_RMS with deviated rotor and decreasing speed"
   ]
  },
  {
   "cell_type": "code",
   "execution_count": 1,
   "metadata": {},
   "outputs": [
    {
     "data": {
      "text/html": [
       "<style>.container { width:100% !important; }</style>"
      ],
      "text/plain": [
       "<IPython.core.display.HTML object>"
      ]
     },
     "metadata": {},
     "output_type": "display_data"
    }
   ],
   "source": [
    "from IPython.core.display import display, HTML\n",
    "display(HTML(\"<style>.container { width:100% !important; }</style>\"))"
   ]
  },
  {
   "cell_type": "code",
   "execution_count": 2,
   "metadata": {},
   "outputs": [
    {
     "name": "stdout",
     "output_type": "stream",
     "text": [
      "parseCC.py\n",
      "GetFrequencyFromZCfile.py\n",
      "VariablesExperiment.py\n",
      "importLibs0.py\n",
      "FFT.py\n",
      "DisplayAndCut.py\n"
     ]
    }
   ],
   "source": [
    "from pathlib import Path\n",
    "folder='./Helper_scripts/'\n",
    "\n",
    "importLibs=1\n",
    "for path in Path(folder).rglob('*.py'):\n",
    "    print(path.name)\n",
    "    exec(open(path).read())"
   ]
  },
  {
   "cell_type": "code",
   "execution_count": 3,
   "metadata": {},
   "outputs": [],
   "source": [
    "VariablesExperiment(20210527)"
   ]
  },
  {
   "cell_type": "markdown",
   "metadata": {},
   "source": [
    "# Detect the rotation speed resp. electrical frequency\n",
    "* Multiple FFTs for different time intervalls are done to identify a time slot in each measurement with the average frequency of fc=31 Hz"
   ]
  },
  {
   "cell_type": "code",
   "execution_count": 4,
   "metadata": {},
   "outputs": [],
   "source": [
    "#characteristische Frequenzen\n",
    "fc=[31,150,220]"
   ]
  },
  {
   "cell_type": "code",
   "execution_count": 5,
   "metadata": {},
   "outputs": [],
   "source": [
    "# FFT function with time initial and time end for analyzing a certain timespan of the signal\n",
    "def FFT_ASCIIscope_mov2(scope_file,**kwargs):\n",
    "    zeroN=kwargs.get('zeroN', 0)\n",
    "    zeroNrel=kwargs.get('zeroNrel', None)\n",
    "    start=kwargs.get('ti',0)\n",
    "    end=kwargs.get('tf',100)\n",
    "    window=kwargs.get('window','blackman')\n",
    "    scope=pd.read_csv(scope_file,sep=\",\",skiprows=[0],names=['time','sig1'],header=0)\n",
    "    filter=(scope['time']>start)&(scope['time']<end)\n",
    "    scope=scope.loc[filter]\n",
    "    N=scope.shape[0] #samples\n",
    "    totalN = N+zeroN + zeroNrel*N\n",
    "    y=scope['sig1']\n",
    "    if(window=='blackman'):\n",
    "        w=np.blackman(N)\n",
    "        y=w*y\n",
    "    T0=scope['time'].iloc[[0,-1]].diff().max()\n",
    "    delta_f=1/T0\n",
    "    f_max=(1/T0)*N//2\n",
    "    yf = np.fft.fft(y,totalN)[:totalN//2]\n",
    "    yf=1.0/N * np.abs(yf) #Absolute and Normalization\n",
    "    xf = np.linspace(0.0, f_max,totalN//2 )\n",
    "    print(N,totalN,xf[1],xf.shape,yf.shape)\n",
    "    return xf,yf, delta_f, totalN"
   ]
  },
  {
   "cell_type": "code",
   "execution_count": 6,
   "metadata": {},
   "outputs": [],
   "source": [
    "# create dataframe for storing the FFTs results and define times\n",
    "calc_scope_fT=False\n",
    "t_start=0.6\n",
    "t_end=1.2\n",
    "delta_t=0.002\n",
    "if(calc_scope_fT):\n",
    "    scope_fT=pd.DataFrame(columns=['index_scope_dat','ti','tf','f_mag_max','m_fmax'])\n",
    "    for f in fc:\n",
    "        name='m_f'+str(f)\n",
    "        scope_fT[name]=None\n",
    "    counter=0\n",
    "    for index, row in scope_dat.loc[:].iterrows():\n",
    "        for ti in np.arange(t_start,t_end,delta_t):\n",
    "            scope_fT.loc[counter,'index_scope_dat']=index\n",
    "            scope_fT.loc[counter,'ti']=ti\n",
    "            scope_fT.loc[counter,'tf']=ti+1.0\n",
    "            counter+=1\n",
    "        "
   ]
  },
  {
   "cell_type": "code",
   "execution_count": 7,
   "metadata": {},
   "outputs": [
    {
     "name": "stdout",
     "output_type": "stream",
     "text": [
      "scope_fT_tstart0K6_tend1K2_deltat0K002\n"
     ]
    }
   ],
   "source": [
    "#calculate multiple FFTs (takes approx. 10 min) and store results or load precalculated results\n",
    "filename='scope_fT'+'_tstart'+str(t_start)+'_tend'+str(t_end)+'_deltat'+str(delta_t)\n",
    "filename=filename.replace('.','K')\n",
    "print(filename)\n",
    "if(calc_scope_fT):\n",
    "    scope_dat['index_copy']=scope_dat.index\n",
    "    for index, row in scope_fT.iterrows():\n",
    "        print(row['index_scope_dat'])\n",
    "        file=scope_dat.loc[:,'ScopeFile'][row['index_scope_dat']]\n",
    "        xf,yf, delta_f, totalN=FFT_ASCIIscope_mov2(file,zeroNrel=4,ti=row['ti'],tf=row['tf']) #Zero Padding to achieve delta_f=0.2\n",
    "        for f in fc:\n",
    "            name='m_f'+str(f)\n",
    "            scope_fT.loc[index,name]=yf[np.where((xf>=f-0.1)&(xf<=f+0.1))][0]\n",
    "        scope_fT.loc[index,'f_mag_max']=xf[np.where(yf.max()==yf)][0]\n",
    "        scope_fT.loc[index,'m_fmax']=yf.max()\n",
    "    scope_fT.to_pickle(filename+'.pkl')\n",
    "else:\n",
    "    scope_fT=pd.read_pickle(filename+'.pkl')"
   ]
  },
  {
   "cell_type": "code",
   "execution_count": 8,
   "metadata": {},
   "outputs": [],
   "source": [
    "# analyse results and get timespans with the same frequency\n",
    "for f in fc:\n",
    "    name='ti_f'+str(f)+'_1sek'\n",
    "    scope_dat[name]=None\n",
    "\n",
    "if(False):\n",
    "    for index, row in scope_dat.iterrows():\n",
    "        for f in fc:\n",
    "            name1='ti_f'+str(f)+'_1sek'\n",
    "            name2='m_f'+str(f)\n",
    "            max1=scope_fT.loc[scope_fT['index_scope_dat']==index,name2].max()\n",
    "            scope_dat.loc[index,name1]=scope_fT.loc[scope_fT[name2]==max1,'ti'].min()\n",
    "\n",
    "\n",
    "    \n",
    "    "
   ]
  },
  {
   "cell_type": "code",
   "execution_count": 9,
   "metadata": {},
   "outputs": [],
   "source": [
    "#fc[0]=30\n",
    "f=fc[0]\n",
    "name1='ti_f'+str(f)+'_nearest_1sek'\n",
    "scope_dat[name1]=None\n",
    "name2='f'+str(f)+'_nearest_1sek'\n",
    "scope_dat[name2]=None\n",
    "name3='m_f'+str(f)+'_nearest_1sek'\n",
    "scope_dat[name3]=None\n",
    "\n",
    "for index, row in scope_dat.loc[:].iterrows():\n",
    "    scope_fT1=scope_fT.loc[scope_fT['index_scope_dat']==index,:]\n",
    "    #idx=scope_fT1.iloc[(scope_fT1['f_mag_max']-f).abs().argsort()[:1]].index[0]\n",
    "    idx=scope_fT1.iloc[(scope_fT1['f_mag_max']-f).abs().argsort()[:1]].index[0]\n",
    "    fmax=scope_fT.iloc[idx]['f_mag_max']\n",
    "    mfmax=scope_fT1.loc[scope_fT['f_mag_max']==fmax,'m_fmax'].max()\n",
    "    idx1=scope_fT1.loc[scope_fT['m_fmax']==mfmax,:].index[0]\n",
    "    scope_dat.loc[index,name1]=scope_fT.iloc[idx1]['ti']\n",
    "    scope_dat.loc[index,name2]=scope_fT.iloc[idx1]['f_mag_max']\n",
    "    scope_dat.loc[index,name3]=mfmax"
   ]
  },
  {
   "cell_type": "markdown",
   "metadata": {},
   "source": [
    "## (1) Calculate U_RMS 1 sek \n",
    "* Calculate U_RMS of each measurement within a time interval of 1 sek with the average frequency of 31 Hz"
   ]
  },
  {
   "cell_type": "code",
   "execution_count": 10,
   "metadata": {},
   "outputs": [],
   "source": [
    "ti_col='ti_f'+str(fc[0])+'_nearest_1sek'\n",
    "#print(ti_col)\n",
    "for index, row in scope_dat.iterrows():\n",
    "    scope=pd.read_csv(row['ScopeFile'],sep=\",\",skiprows=[0],names=['time','sig1'],header=0)\n",
    "    filter=(scope['time']>row[ti_col])&(scope['time']<(row[ti_col]+1))  #vorher 1sek , bei 30 ms werden nicht alle Polpaare berückichtigt\n",
    "    u=scope.loc[filter,'sig1']\n",
    "    rms = np.sqrt(np.mean(u**2))\n",
    "    #print(rms)\n",
    "    scope_dat.loc[index,'U_rms']=rms"
   ]
  },
  {
   "cell_type": "code",
   "execution_count": 14,
   "metadata": {
    "scrolled": false
   },
   "outputs": [
    {
     "data": {
      "image/png": "[encoded data removed]",
      "text/plain": [
       "<Figure size 720x288 with 1 Axes>"
      ]
     },
     "metadata": {
      "needs_background": "light"
     },
     "output_type": "display_data"
    }
   ],
   "source": [
    "fig, ax = plt.subplots(figsize = (10,4))\n",
    "#width=0.2\n",
    "label2='Inclined Stator'\n",
    "label1='Parallel Rotor Stator'\n",
    "x=np.arange(10)\n",
    "data2=scope_dat.loc[scope_dat['Symbol']=='parallel','U_rms']\n",
    "ax.bar(np.arange(len(data2)),data2,label=label1,color='C1')\n",
    "data2=scope_dat.loc[scope_dat['Symbol']=='Rotor_Deviated','U_rms']\n",
    "bar_g=ax.bar(np.arange(len(data2))+5,data2,label=label2,color='C0')\n",
    "#ax.set_ylim(28.70,29.81)\n",
    "ax.set_ylim(28.3,28.9)\n",
    "ax.set_xticks(x)\n",
    "ax.legend(loc=3)\n",
    "ax.set_title('U_rms (1sek) f='+str(fc[0])+\"Hz\")\n",
    "ax.set_xlabel('Measurement Number')\n",
    "ax.set_ylabel('Generator Voltage U_L1L2 [V]')\n",
    "#plt.savefig(\"UrmsComparison_1sekFFT_Aut.png\",dpi=600)\n",
    "plt.grid(True)"
   ]
  },
  {
   "cell_type": "code",
   "execution_count": null,
   "metadata": {},
   "outputs": [],
   "source": [
    "scope_dat.loc[:,'U_rms']"
   ]
  },
  {
   "cell_type": "markdown",
   "metadata": {},
   "source": [
    "## (2) Calculate U_RMS 0.2 sek \n",
    "* Calculate U_RMS of each measurement within a time interval of 0.2 sek with the average frequency of 31 Hz\n",
    "* The 0.2 sek interval is positioned in the middle of the previous 1 sek intervall\n",
    "* 1 revolution takes 0.19 sek at f_el=31Hz"
   ]
  },
  {
   "cell_type": "code",
   "execution_count": null,
   "metadata": {},
   "outputs": [],
   "source": [
    "#Zeit für U-Signal 1 Umlauf, mit allen Polpaaren bie f=31Hz\n",
    "1/31*6"
   ]
  },
  {
   "cell_type": "code",
   "execution_count": null,
   "metadata": {},
   "outputs": [],
   "source": [
    "ti_col='ti_f'+str(fc[0])+'_nearest_1sek'\n",
    "#print(ti_col)\n",
    "for index, row in scope_dat.iterrows():\n",
    "    scope=pd.read_csv(row['ScopeFile'],sep=\",\",skiprows=[0],names=['time','sig1'],header=0)\n",
    "    filter=(scope['time']>(row[ti_col]+0.4))&(scope['time']<(row[ti_col]+0.6))  #vorher 1sek , bei 30 ms werden nicht alle Polpaare berückichtigt\n",
    "    u=scope.loc[filter,'sig1']\n",
    "    rms = np.sqrt(np.mean(u**2))\n",
    "    #print(rms)\n",
    "    scope_dat.loc[index,'U_rms']=rms"
   ]
  },
  {
   "cell_type": "code",
   "execution_count": 15,
   "metadata": {
    "scrolled": false
   },
   "outputs": [
    {
     "data": {
      "image/png": "[encoded data removed]",
      "text/plain": [
       "<Figure size 720x288 with 1 Axes>"
      ]
     },
     "metadata": {
      "needs_background": "light"
     },
     "output_type": "display_data"
    }
   ],
   "source": [
    "fig, ax = plt.subplots(figsize = (10,4))\n",
    "#width=0.2\n",
    "label2='Inclined Stator'\n",
    "label1='Parallel Rotor Stator'\n",
    "x=np.arange(10)\n",
    "data2=scope_dat.loc[scope_dat['Symbol']=='parallel','U_rms']\n",
    "ax.bar(np.arange(len(data2)),data2,label=label1,color='C1')\n",
    "data2=scope_dat.loc[scope_dat['Symbol']=='Rotor_Deviated','U_rms']\n",
    "bar_g=ax.bar(np.arange(len(data2))+5,data2,label=label2,color='C0')\n",
    "#ax.set_ylim(28.70,29.81)\n",
    "ax.set_ylim(28.1,29.2)\n",
    "ax.set_xticks(x)\n",
    "ax.legend(loc=3)\n",
    "ax.set_title('U_rms (1sek) f='+str(fc[0])+\"Hz\")\n",
    "ax.set_xlabel('Measurement Number')\n",
    "ax.set_ylabel('Generator Voltage U_L1L2 [V]')\n",
    "#plt.savefig(\"UrmsComparison_1sekFFT_Aut.png\",dpi=600)\n",
    "plt.grid(True)"
   ]
  },
  {
   "cell_type": "code",
   "execution_count": 16,
   "metadata": {
    "scrolled": true
   },
   "outputs": [
    {
     "data": {
      "text/plain": [
       "0    28.791874\n",
       "1    28.792062\n",
       "2    28.775779\n",
       "3    28.789610\n",
       "4    28.772779\n",
       "5    28.748235\n",
       "6    28.373345\n",
       "7    28.770086\n",
       "8    28.427968\n",
       "9    28.786233\n",
       "Name: U_rms, dtype: float64"
      ]
     },
     "execution_count": 16,
     "metadata": {},
     "output_type": "execute_result"
    }
   ],
   "source": [
    "scope_dat.loc[:,'U_rms']"
   ]
  }
 ],
 "metadata": {
  "kernelspec": {
   "display_name": "Python 3",
   "language": "python",
   "name": "python3"
  },
  "language_info": {
   "codemirror_mode": {
    "name": "ipython",
    "version": 3
   },
   "file_extension": ".py",
   "mimetype": "text/x-python",
   "name": "python",
   "nbconvert_exporter": "python",
   "pygments_lexer": "ipython3",
   "version": "3.7.7"
  }
 },
 "nbformat": 4,
 "nbformat_minor": 4
}
