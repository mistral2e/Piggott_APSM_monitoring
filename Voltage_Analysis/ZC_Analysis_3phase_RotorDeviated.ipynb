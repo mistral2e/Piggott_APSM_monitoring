{
 "cells": [
  {
   "cell_type": "code",
   "execution_count": 1,
   "metadata": {},
   "outputs": [
    {
     "data": {
      "text/html": [
       "<style>.container { width:100% !important; }</style>"
      ],
      "text/plain": [
       "<IPython.core.display.HTML object>"
      ]
     },
     "metadata": {},
     "output_type": "display_data"
    }
   ],
   "source": [
    "from IPython.core.display import display, HTML\n",
    "display(HTML(\"<style>.container { width:100% !important; }</style>\"))"
   ]
  },
  {
   "cell_type": "code",
   "execution_count": 2,
   "metadata": {},
   "outputs": [
    {
     "name": "stdout",
     "output_type": "stream",
     "text": [
      "parseCC.py\n",
      "GetFrequencyFromZCfile.py\n",
      "VariablesExperiment.py\n",
      "importLibs0.py\n",
      "FFT.py\n",
      "DisplayAndCut.py\n"
     ]
    }
   ],
   "source": [
    "from pathlib import Path\n",
    "folder='./Helper_scripts/'\n",
    "\n",
    "importLibs=1\n",
    "for path in Path(folder).rglob('*.py'):\n",
    "    print(path.name)\n",
    "    exec(open(path).read())"
   ]
  },
  {
   "cell_type": "code",
   "execution_count": 3,
   "metadata": {},
   "outputs": [],
   "source": [
    "VariablesExperiment(20210727)"
   ]
  },
  {
   "cell_type": "code",
   "execution_count": 4,
   "metadata": {},
   "outputs": [],
   "source": [
    "import numpy as np\n",
    "import pandas as pd\n",
    "import matplotlib\n",
    "# matplotlib.rcParams['text.usetex'] = True\n",
    "import matplotlib.pyplot as plt\n",
    "#%matplotlib notebook\n",
    "import os\n",
    "poles=12\n",
    "fname1=\"AZC_3Phasen_\""
   ]
  },
  {
   "cell_type": "code",
   "execution_count": 5,
   "metadata": {},
   "outputs": [],
   "source": [
    "n=3\n",
    "fname1+=str(n)+'_'+scope_dat.iloc[n]['Symbol']+'_'"
   ]
  },
  {
   "cell_type": "code",
   "execution_count": 6,
   "metadata": {},
   "outputs": [
    {
     "data": {
      "text/plain": [
       "'AZC_3Phasen_3_Rotor_Deviated_'"
      ]
     },
     "execution_count": 6,
     "metadata": {},
     "output_type": "execute_result"
    }
   ],
   "source": [
    "fname1"
   ]
  },
  {
   "cell_type": "code",
   "execution_count": 7,
   "metadata": {},
   "outputs": [],
   "source": [
    "file=scope_dat.iloc[n]['SerialFile']\n",
    "df=pd.read_csv(file,sep=\";\",skiprows=0)\n",
    "df['time']=df['ESP_CC']*1/uC_clock_speed   #aus CC Zeit berechnen\n",
    "df['delta_t']=df['time'].diff()"
   ]
  },
  {
   "cell_type": "code",
   "execution_count": 8,
   "metadata": {},
   "outputs": [],
   "source": [
    "df1=OverflowCC_local(df)"
   ]
  },
  {
   "cell_type": "code",
   "execution_count": 9,
   "metadata": {
    "scrolled": true
   },
   "outputs": [
    {
     "data": {
      "text/html": [
       "<div>\n",
       "<style scoped>\n",
       "    .dataframe tbody tr th:only-of-type {\n",
       "        vertical-align: middle;\n",
       "    }\n",
       "\n",
       "    .dataframe tbody tr th {\n",
       "        vertical-align: top;\n",
       "    }\n",
       "\n",
       "    .dataframe thead th {\n",
       "        text-align: right;\n",
       "    }\n",
       "</style>\n",
       "<table border=\"1\" class=\"dataframe\">\n",
       "  <thead>\n",
       "    <tr style=\"text-align: right;\">\n",
       "      <th></th>\n",
       "      <th>unixtime</th>\n",
       "      <th>input</th>\n",
       "      <th>ESP_CC</th>\n",
       "      <th>cc_overflow_count</th>\n",
       "      <th>Unnamed: 4</th>\n",
       "      <th>time</th>\n",
       "      <th>delta_t</th>\n",
       "      <th>cc_overflow_python</th>\n",
       "      <th>cc_total</th>\n",
       "      <th>cc_diff</th>\n",
       "      <th>count</th>\n",
       "    </tr>\n",
       "  </thead>\n",
       "  <tbody>\n",
       "    <tr>\n",
       "      <th>0</th>\n",
       "      <td>1.627397e+09</td>\n",
       "      <td>3</td>\n",
       "      <td>885123934</td>\n",
       "      <td>1</td>\n",
       "      <td>NaN</td>\n",
       "      <td>5.532025</td>\n",
       "      <td>NaN</td>\n",
       "      <td>1</td>\n",
       "      <td>5180091230</td>\n",
       "      <td>NaN</td>\n",
       "      <td>1</td>\n",
       "    </tr>\n",
       "    <tr>\n",
       "      <th>1</th>\n",
       "      <td>1.627397e+09</td>\n",
       "      <td>1</td>\n",
       "      <td>885996735</td>\n",
       "      <td>1</td>\n",
       "      <td>NaN</td>\n",
       "      <td>5.537480</td>\n",
       "      <td>0.005455</td>\n",
       "      <td>1</td>\n",
       "      <td>5180964031</td>\n",
       "      <td>NaN</td>\n",
       "      <td>1</td>\n",
       "    </tr>\n",
       "    <tr>\n",
       "      <th>2</th>\n",
       "      <td>1.627397e+09</td>\n",
       "      <td>2</td>\n",
       "      <td>886850492</td>\n",
       "      <td>1</td>\n",
       "      <td>NaN</td>\n",
       "      <td>5.542816</td>\n",
       "      <td>0.005336</td>\n",
       "      <td>1</td>\n",
       "      <td>5181817788</td>\n",
       "      <td>NaN</td>\n",
       "      <td>1</td>\n",
       "    </tr>\n",
       "    <tr>\n",
       "      <th>3</th>\n",
       "      <td>1.627397e+09</td>\n",
       "      <td>3</td>\n",
       "      <td>887712576</td>\n",
       "      <td>1</td>\n",
       "      <td>NaN</td>\n",
       "      <td>5.548204</td>\n",
       "      <td>0.005388</td>\n",
       "      <td>1</td>\n",
       "      <td>5182679872</td>\n",
       "      <td>2588642.0</td>\n",
       "      <td>2</td>\n",
       "    </tr>\n",
       "    <tr>\n",
       "      <th>4</th>\n",
       "      <td>1.627397e+09</td>\n",
       "      <td>1</td>\n",
       "      <td>888583619</td>\n",
       "      <td>1</td>\n",
       "      <td>NaN</td>\n",
       "      <td>5.553648</td>\n",
       "      <td>0.005444</td>\n",
       "      <td>1</td>\n",
       "      <td>5183550915</td>\n",
       "      <td>2586884.0</td>\n",
       "      <td>2</td>\n",
       "    </tr>\n",
       "  </tbody>\n",
       "</table>\n",
       "</div>"
      ],
      "text/plain": [
       "       unixtime  input     ESP_CC  cc_overflow_count  Unnamed: 4      time  \\\n",
       "0  1.627397e+09      3  885123934                  1         NaN  5.532025   \n",
       "1  1.627397e+09      1  885996735                  1         NaN  5.537480   \n",
       "2  1.627397e+09      2  886850492                  1         NaN  5.542816   \n",
       "3  1.627397e+09      3  887712576                  1         NaN  5.548204   \n",
       "4  1.627397e+09      1  888583619                  1         NaN  5.553648   \n",
       "\n",
       "    delta_t  cc_overflow_python    cc_total    cc_diff  count  \n",
       "0       NaN                   1  5180091230        NaN      1  \n",
       "1  0.005455                   1  5180964031        NaN      1  \n",
       "2  0.005336                   1  5181817788        NaN      1  \n",
       "3  0.005388                   1  5182679872  2588642.0      2  \n",
       "4  0.005444                   1  5183550915  2586884.0      2  "
      ]
     },
     "execution_count": 9,
     "metadata": {},
     "output_type": "execute_result"
    }
   ],
   "source": [
    "df1.head()"
   ]
  },
  {
   "cell_type": "code",
   "execution_count": 10,
   "metadata": {},
   "outputs": [
    {
     "data": {
      "text/html": [
       "<div>\n",
       "<style scoped>\n",
       "    .dataframe tbody tr th:only-of-type {\n",
       "        vertical-align: middle;\n",
       "    }\n",
       "\n",
       "    .dataframe tbody tr th {\n",
       "        vertical-align: top;\n",
       "    }\n",
       "\n",
       "    .dataframe thead th {\n",
       "        text-align: right;\n",
       "    }\n",
       "</style>\n",
       "<table border=\"1\" class=\"dataframe\">\n",
       "  <thead>\n",
       "    <tr style=\"text-align: right;\">\n",
       "      <th></th>\n",
       "      <th>unixtime</th>\n",
       "      <th>input</th>\n",
       "      <th>ESP_CC</th>\n",
       "      <th>cc_overflow_count</th>\n",
       "      <th>Unnamed: 4</th>\n",
       "      <th>time</th>\n",
       "      <th>delta_t</th>\n",
       "      <th>cc_overflow_python</th>\n",
       "      <th>cc_total</th>\n",
       "      <th>cc_diff</th>\n",
       "      <th>count</th>\n",
       "      <th>time0s</th>\n",
       "    </tr>\n",
       "  </thead>\n",
       "  <tbody>\n",
       "    <tr>\n",
       "      <th>0</th>\n",
       "      <td>1.627397e+09</td>\n",
       "      <td>3</td>\n",
       "      <td>885123934</td>\n",
       "      <td>1</td>\n",
       "      <td>NaN</td>\n",
       "      <td>5.532025</td>\n",
       "      <td>NaN</td>\n",
       "      <td>1</td>\n",
       "      <td>5180091230</td>\n",
       "      <td>NaN</td>\n",
       "      <td>1</td>\n",
       "      <td>0.000000</td>\n",
       "    </tr>\n",
       "    <tr>\n",
       "      <th>1</th>\n",
       "      <td>1.627397e+09</td>\n",
       "      <td>1</td>\n",
       "      <td>885996735</td>\n",
       "      <td>1</td>\n",
       "      <td>NaN</td>\n",
       "      <td>5.537480</td>\n",
       "      <td>0.005455</td>\n",
       "      <td>1</td>\n",
       "      <td>5180964031</td>\n",
       "      <td>NaN</td>\n",
       "      <td>1</td>\n",
       "      <td>0.005455</td>\n",
       "    </tr>\n",
       "    <tr>\n",
       "      <th>2</th>\n",
       "      <td>1.627397e+09</td>\n",
       "      <td>2</td>\n",
       "      <td>886850492</td>\n",
       "      <td>1</td>\n",
       "      <td>NaN</td>\n",
       "      <td>5.542816</td>\n",
       "      <td>0.005336</td>\n",
       "      <td>1</td>\n",
       "      <td>5181817788</td>\n",
       "      <td>NaN</td>\n",
       "      <td>1</td>\n",
       "      <td>0.010791</td>\n",
       "    </tr>\n",
       "    <tr>\n",
       "      <th>3</th>\n",
       "      <td>1.627397e+09</td>\n",
       "      <td>3</td>\n",
       "      <td>887712576</td>\n",
       "      <td>1</td>\n",
       "      <td>NaN</td>\n",
       "      <td>5.548204</td>\n",
       "      <td>0.005388</td>\n",
       "      <td>1</td>\n",
       "      <td>5182679872</td>\n",
       "      <td>2588642.0</td>\n",
       "      <td>2</td>\n",
       "      <td>0.016179</td>\n",
       "    </tr>\n",
       "    <tr>\n",
       "      <th>4</th>\n",
       "      <td>1.627397e+09</td>\n",
       "      <td>1</td>\n",
       "      <td>888583619</td>\n",
       "      <td>1</td>\n",
       "      <td>NaN</td>\n",
       "      <td>5.553648</td>\n",
       "      <td>0.005444</td>\n",
       "      <td>1</td>\n",
       "      <td>5183550915</td>\n",
       "      <td>2586884.0</td>\n",
       "      <td>2</td>\n",
       "      <td>0.021623</td>\n",
       "    </tr>\n",
       "  </tbody>\n",
       "</table>\n",
       "</div>"
      ],
      "text/plain": [
       "       unixtime  input     ESP_CC  cc_overflow_count  Unnamed: 4      time  \\\n",
       "0  1.627397e+09      3  885123934                  1         NaN  5.532025   \n",
       "1  1.627397e+09      1  885996735                  1         NaN  5.537480   \n",
       "2  1.627397e+09      2  886850492                  1         NaN  5.542816   \n",
       "3  1.627397e+09      3  887712576                  1         NaN  5.548204   \n",
       "4  1.627397e+09      1  888583619                  1         NaN  5.553648   \n",
       "\n",
       "    delta_t  cc_overflow_python    cc_total    cc_diff  count    time0s  \n",
       "0       NaN                   1  5180091230        NaN      1  0.000000  \n",
       "1  0.005455                   1  5180964031        NaN      1  0.005455  \n",
       "2  0.005336                   1  5181817788        NaN      1  0.010791  \n",
       "3  0.005388                   1  5182679872  2588642.0      2  0.016179  \n",
       "4  0.005444                   1  5183550915  2586884.0      2  0.021623  "
      ]
     },
     "metadata": {},
     "output_type": "display_data"
    },
    {
     "data": {
      "image/png": "[encoded data removed]",
      "text/plain": [
       "<Figure size 1080x360 with 2 Axes>"
      ]
     },
     "metadata": {
      "needs_background": "light"
     },
     "output_type": "display_data"
    }
   ],
   "source": [
    "df=df1\n",
    "df['time0s']=(df['time']-df.head(1)['time'].values)\n",
    "display(df.head(5))\n",
    "fig, ax0 = plt.subplots(1,2,figsize = (15,5))\n",
    "ax=ax0[0]\n",
    "ax.scatter(df['time0s'],df['delta_t'],s=1)\n",
    "#t = np.arange(0.0, 20.0+1.0, 1.0)\n",
    "#ax.xaxis.set_ticks(t)\n",
    "#plt.xlim(4,17)\n",
    "ax.grid(True)\n",
    "#plt.title(r'$B_Z$ [ $\\mu T$ ] in Rotornähe während einer Umdrehung')\n",
    "ax.set_xlabel('Zeit [s]')\n",
    "ax.set_ylabel(r'$\\Delta$T [ms]')\n",
    "ax=ax0[1]\n",
    "ax.grid(True)\n",
    "ax.scatter(df.index,df['delta_t'],s=1)\n",
    "plt.show()\n"
   ]
  },
  {
   "cell_type": "markdown",
   "metadata": {},
   "source": [
    "## Bereich ohne Fehler auswählen"
   ]
  },
  {
   "cell_type": "code",
   "execution_count": 11,
   "metadata": {},
   "outputs": [
    {
     "data": {
      "text/plain": [
       "41"
      ]
     },
     "metadata": {},
     "output_type": "display_data"
    },
    {
     "data": {
      "text/plain": [
       "3.4166666666666665"
      ]
     },
     "metadata": {},
     "output_type": "display_data"
    },
    {
     "name": "stdout",
     "output_type": "stream",
     "text": [
      "time c1: 3.2337561\n"
     ]
    }
   ],
   "source": [
    "a=479;b=600\n",
    "# Wie Viele Umdrehungen?\n",
    "c0=df.loc[a,'count']\n",
    "#df.loc[df['time']<1.25e8]\n",
    "c1=df.loc[b,'count']\n",
    "display(c1-c0)\n",
    "display((c1-c0)/poles)\n",
    "print('time c1: '+str(df.loc[b,'time0s']))"
   ]
  },
  {
   "cell_type": "code",
   "execution_count": 12,
   "metadata": {},
   "outputs": [],
   "source": [
    "df=df.loc[a:b].copy()\n",
    "df.reset_index(inplace = True,drop = True) "
   ]
  },
  {
   "cell_type": "code",
   "execution_count": 13,
   "metadata": {},
   "outputs": [
    {
     "data": {
      "image/png": "[encoded data removed]",
      "text/plain": [
       "<Figure size 1080x360 with 1 Axes>"
      ]
     },
     "metadata": {
      "needs_background": "light"
     },
     "output_type": "display_data"
    }
   ],
   "source": [
    "#display(df.head(5))\n",
    "fig, ax0 = plt.subplots(1,figsize = (15,5))\n",
    "ax=ax0\n",
    "ax.scatter(df.index,df['delta_t']*1e3,s=5)\n",
    "#ax.set_ylim(5e-3,5.6e-3)\n",
    "ax.grid(True)\n",
    "ax.set_xlabel('Zeit [s]')\n",
    "ax.set_ylabel(r'$\\Delta$T [ms]')\n",
    "filename=fname1+'MessergebnisseAuswertung.png'\n",
    "#plt.savefig(filename, bbox_inches='tight',dpi=900)\n",
    "plt.show()"
   ]
  },
  {
   "cell_type": "markdown",
   "metadata": {},
   "source": [
    "## Regression"
   ]
  },
  {
   "cell_type": "code",
   "execution_count": 14,
   "metadata": {},
   "outputs": [
    {
     "name": "stdout",
     "output_type": "stream",
     "text": [
      "Coeeficient values:\n",
      " [-6.19250923e-02  3.13590795e+00 -6.61604075e+01  7.44356652e+02\n",
      " -4.71016004e+03  1.58941752e+04 -2.23448713e+04]\n",
      "y=ax**3+bx**2+cx+d\n"
     ]
    }
   ],
   "source": [
    "x =df['time']   #erklärend , unabhängig\n",
    "y =df['delta_t']  # erklärte, abhängig\n",
    "p = np.polyfit(x, y, 6)  # Last argument is degree of polynomial\n",
    "\n",
    "print(\"Coeeficient values:\\n\", p)\n",
    "print(\"y=ax**3+bx**2+cx+d\")\n",
    "predict = np.poly1d(p)\n",
    "#x_test = 15\n",
    "#print(\"\\nGiven x_test value is: \", x_test)\n",
    "#y_pred = predict(x_test)\n",
    "#print(\"\\nPredicted value of y_pred for given x_test is: \", y_pred)\n",
    "df['delta_t_pred']=predict(df['time'])"
   ]
  },
  {
   "cell_type": "code",
   "execution_count": 15,
   "metadata": {},
   "outputs": [
    {
     "name": "stdout",
     "output_type": "stream",
     "text": [
      "0.003432320261205435\n"
     ]
    }
   ],
   "source": [
    "from sklearn.metrics import r2_score\n",
    "print(r2_score(y, predict(x))) "
   ]
  },
  {
   "cell_type": "code",
   "execution_count": 16,
   "metadata": {},
   "outputs": [
    {
     "data": {
      "text/plain": [
       "0.005390066752049173"
      ]
     },
     "execution_count": 16,
     "metadata": {},
     "output_type": "execute_result"
    }
   ],
   "source": [
    "df['delta_t'].mean()"
   ]
  },
  {
   "cell_type": "code",
   "execution_count": 17,
   "metadata": {},
   "outputs": [
    {
     "name": "stdout",
     "output_type": "stream",
     "text": [
      "Mean Error -7.685051138267107e-11\n",
      "RMSE 5.007180826757692e-05\n"
     ]
    }
   ],
   "source": [
    "df['error']=df['delta_t_pred']-df['delta_t']\n",
    "print(\"Mean Error \" + str(df['error'].mean()))\n",
    "print(\"RMSE \"+ str((df['error']** 2).mean() ** 0.5))"
   ]
  },
  {
   "cell_type": "code",
   "execution_count": 18,
   "metadata": {},
   "outputs": [
    {
     "data": {
      "text/plain": [
       "<matplotlib.collections.PathCollection at 0x7f5d712ddd50>"
      ]
     },
     "execution_count": 18,
     "metadata": {},
     "output_type": "execute_result"
    },
    {
     "data": {
      "image/png": "[encoded data removed]",
      "text/plain": [
       "<Figure size 432x288 with 1 Axes>"
      ]
     },
     "metadata": {
      "needs_background": "light"
     },
     "output_type": "display_data"
    }
   ],
   "source": [
    "plt.scatter(df['time'],df['error'])"
   ]
  },
  {
   "cell_type": "code",
   "execution_count": 19,
   "metadata": {},
   "outputs": [],
   "source": [
    "df['pole']=df.index % (3*poles)\n",
    "df['N']=df.index // (3*poles)"
   ]
  },
  {
   "cell_type": "code",
   "execution_count": 20,
   "metadata": {},
   "outputs": [],
   "source": [
    "a=0*poles;b=3*3*poles\n",
    "df4=df[a:b].copy()"
   ]
  },
  {
   "cell_type": "code",
   "execution_count": 21,
   "metadata": {},
   "outputs": [
    {
     "data": {
      "text/html": [
       "<div>\n",
       "<style scoped>\n",
       "    .dataframe tbody tr th:only-of-type {\n",
       "        vertical-align: middle;\n",
       "    }\n",
       "\n",
       "    .dataframe tbody tr th {\n",
       "        vertical-align: top;\n",
       "    }\n",
       "\n",
       "    .dataframe thead th {\n",
       "        text-align: right;\n",
       "    }\n",
       "</style>\n",
       "<table border=\"1\" class=\"dataframe\">\n",
       "  <thead>\n",
       "    <tr style=\"text-align: right;\">\n",
       "      <th></th>\n",
       "      <th>input</th>\n",
       "      <th>time</th>\n",
       "      <th>error</th>\n",
       "      <th>pole</th>\n",
       "      <th>N</th>\n",
       "    </tr>\n",
       "  </thead>\n",
       "  <tbody>\n",
       "    <tr>\n",
       "      <th>0</th>\n",
       "      <td>2</td>\n",
       "      <td>8.113556</td>\n",
       "      <td>0.000021</td>\n",
       "      <td>0</td>\n",
       "      <td>0</td>\n",
       "    </tr>\n",
       "    <tr>\n",
       "      <th>1</th>\n",
       "      <td>3</td>\n",
       "      <td>8.118924</td>\n",
       "      <td>0.000019</td>\n",
       "      <td>1</td>\n",
       "      <td>0</td>\n",
       "    </tr>\n",
       "    <tr>\n",
       "      <th>2</th>\n",
       "      <td>1</td>\n",
       "      <td>8.124385</td>\n",
       "      <td>-0.000073</td>\n",
       "      <td>2</td>\n",
       "      <td>0</td>\n",
       "    </tr>\n",
       "    <tr>\n",
       "      <th>3</th>\n",
       "      <td>2</td>\n",
       "      <td>8.129738</td>\n",
       "      <td>0.000037</td>\n",
       "      <td>3</td>\n",
       "      <td>0</td>\n",
       "    </tr>\n",
       "    <tr>\n",
       "      <th>4</th>\n",
       "      <td>3</td>\n",
       "      <td>8.135127</td>\n",
       "      <td>0.000002</td>\n",
       "      <td>4</td>\n",
       "      <td>0</td>\n",
       "    </tr>\n",
       "    <tr>\n",
       "      <th>...</th>\n",
       "      <td>...</td>\n",
       "      <td>...</td>\n",
       "      <td>...</td>\n",
       "      <td>...</td>\n",
       "      <td>...</td>\n",
       "    </tr>\n",
       "    <tr>\n",
       "      <th>103</th>\n",
       "      <td>3</td>\n",
       "      <td>8.668807</td>\n",
       "      <td>0.000020</td>\n",
       "      <td>31</td>\n",
       "      <td>2</td>\n",
       "    </tr>\n",
       "    <tr>\n",
       "      <th>104</th>\n",
       "      <td>1</td>\n",
       "      <td>8.674288</td>\n",
       "      <td>-0.000090</td>\n",
       "      <td>32</td>\n",
       "      <td>2</td>\n",
       "    </tr>\n",
       "    <tr>\n",
       "      <th>105</th>\n",
       "      <td>2</td>\n",
       "      <td>8.679619</td>\n",
       "      <td>0.000060</td>\n",
       "      <td>33</td>\n",
       "      <td>2</td>\n",
       "    </tr>\n",
       "    <tr>\n",
       "      <th>106</th>\n",
       "      <td>3</td>\n",
       "      <td>8.684994</td>\n",
       "      <td>0.000015</td>\n",
       "      <td>34</td>\n",
       "      <td>2</td>\n",
       "    </tr>\n",
       "    <tr>\n",
       "      <th>107</th>\n",
       "      <td>1</td>\n",
       "      <td>8.690455</td>\n",
       "      <td>-0.000071</td>\n",
       "      <td>35</td>\n",
       "      <td>2</td>\n",
       "    </tr>\n",
       "  </tbody>\n",
       "</table>\n",
       "<p>108 rows × 5 columns</p>\n",
       "</div>"
      ],
      "text/plain": [
       "     input      time     error  pole  N\n",
       "0        2  8.113556  0.000021     0  0\n",
       "1        3  8.118924  0.000019     1  0\n",
       "2        1  8.124385 -0.000073     2  0\n",
       "3        2  8.129738  0.000037     3  0\n",
       "4        3  8.135127  0.000002     4  0\n",
       "..     ...       ...       ...   ... ..\n",
       "103      3  8.668807  0.000020    31  2\n",
       "104      1  8.674288 -0.000090    32  2\n",
       "105      2  8.679619  0.000060    33  2\n",
       "106      3  8.684994  0.000015    34  2\n",
       "107      1  8.690455 -0.000071    35  2\n",
       "\n",
       "[108 rows x 5 columns]"
      ]
     },
     "execution_count": 21,
     "metadata": {},
     "output_type": "execute_result"
    }
   ],
   "source": [
    "df4[['input','time','error','pole','N']]"
   ]
  },
  {
   "cell_type": "code",
   "execution_count": 22,
   "metadata": {},
   "outputs": [
    {
     "data": {
      "image/png": "[encoded data removed]",
      "text/plain": [
       "<Figure size 1296x288 with 1 Axes>"
      ]
     },
     "metadata": {
      "needs_background": "light"
     },
     "output_type": "display_data"
    }
   ],
   "source": [
    "xs=df4['time']\n",
    "ys=df4['error']*1e6 #für usek\n",
    "ZC_inp=df4['input']\n",
    "marker=df4['pole']+1\n",
    "plt.figure(figsize=(18,4))\n",
    "plt.plot(xs,ys,lw=0.8)\n",
    "#plt.scatter(xs,ys,s=15,label='Messpunkt, Nr. ZC')\n",
    "i=True\n",
    "vlineHigh=(ys.max()//10+2)*10\n",
    "s1=20\n",
    "for x, y,m,ZC_in in zip(xs, ys,marker,ZC_inp):\n",
    "    plt.text(x+2e-3, y, str(m), color=\"black\", fontsize=10)\n",
    "    if(ZC_in==1):\n",
    "        plt.scatter(x,y,s=s1,c='r',label='_Messpunkt ZC Phase L1L2, Nr. ZC')\n",
    "    if(ZC_in==2):\n",
    "        plt.scatter(x,y,s=s1,c='g',label='_Messpunkt ZC Phase L1L2, Nr. ZC')\n",
    "    if(ZC_in==3):\n",
    "        plt.scatter(x,y,s=s1,c='b',label='_Messpunkt ZC Phase L1L2, Nr. ZC')\n",
    "    if(m==1):\n",
    "        plt.vlines(x,-vlineHigh,vlineHigh ,colors='g',linestyle='--',label='Neue Umdrehung' if i == True else \"\")\n",
    "        i=False\n",
    "plt.ylim(-vlineHigh,vlineHigh)\n",
    "plt.title(r'Abweichung der zeitlichen ZC-Abstände von der Regression')\n",
    "plt.xlabel('Zeit [s]')\n",
    "plt.ylabel(r'$\\Delta$T [$\\mu$s]')\n",
    "plt.legend()\n",
    "plt.grid(True)\n",
    "filename=fname1+'reg'\n",
    "#plt.savefig(filename+'.png', bbox_inches='tight',dpi=900)\n",
    "#plt.savefig(filename+'.eps', bbox_inches='tight')\n",
    "plt.show()"
   ]
  },
  {
   "cell_type": "code",
   "execution_count": 23,
   "metadata": {},
   "outputs": [],
   "source": [
    "\n",
    "df4_sp=df4.sort_values(by=['pole'])"
   ]
  },
  {
   "cell_type": "code",
   "execution_count": 24,
   "metadata": {},
   "outputs": [
    {
     "data": {
      "image/png": "[encoded data removed]",
      "text/plain": [
       "<Figure size 1080x288 with 1 Axes>"
      ]
     },
     "metadata": {
      "needs_background": "light"
     },
     "output_type": "display_data"
    }
   ],
   "source": [
    "xs=df4_sp['pole']\n",
    "ys=df4_sp['error']\n",
    "marker=df4_sp.index//poles\n",
    "plt.figure(figsize=(15,4))\n",
    "for x, y,m in zip(xs, ys,marker):\n",
    "    #print(x,y,m)\n",
    "    plt.text(x, y, str(m), color=\"blue\", fontsize=10)\n",
    "    plt.scatter(x, y,s=0.0001)\n",
    "plt.show()"
   ]
  },
  {
   "cell_type": "markdown",
   "metadata": {},
   "source": [
    "# Heatmap"
   ]
  },
  {
   "cell_type": "code",
   "execution_count": 25,
   "metadata": {},
   "outputs": [],
   "source": [
    "df_copy=df[['pole','N','delta_t','error']].copy()\n",
    "df_copy.drop(df.tail(df_copy.shape[0]%poles).index,inplace=True)\n",
    "times=df_copy['error'].to_numpy()*1e6\n",
    "times=np.array_split(times, df_copy.shape[0]/(poles))"
   ]
  },
  {
   "cell_type": "code",
   "execution_count": 26,
   "metadata": {},
   "outputs": [
    {
     "data": {
      "text/plain": [
       "<Figure size 432x288 with 0 Axes>"
      ]
     },
     "metadata": {},
     "output_type": "display_data"
    },
    {
     "data": {
      "image/png": "[encoded data removed]",
      "text/plain": [
       "<Figure size 360x360 with 2 Axes>"
      ]
     },
     "metadata": {
      "needs_background": "light"
     },
     "output_type": "display_data"
    }
   ],
   "source": [
    "plt.figure()\n",
    "fig, ax = plt.subplots(figsize=(5, 5))\n",
    "im = ax.imshow(times)\n",
    "cbar=fig.colorbar(im)\n",
    "ax.set_xlabel(\"Nr. ZC\")\n",
    "ax.set_ylabel(\"Anzhal 1/3 Umdrehungen\")\n",
    "cbar.ax.set_ylabel(r'$\\Delta$T [$\\mu s$]', rotation=-90, va=\"bottom\")\n",
    "#plt.title(r'Abweichung der zeitlichen ZC-Abstände von der Regression')\n",
    "filename=fname1+'reg_heat.png'\n",
    "#plt.savefig(filename+'.png', bbox_inches='tight',dpi=900)\n",
    "#plt.savefig(filename+'.eps', bbox_inches='tight')\n",
    "plt.show()"
   ]
  },
  {
   "cell_type": "code",
   "execution_count": 27,
   "metadata": {},
   "outputs": [
    {
     "data": {
      "text/plain": [
       "(array([ 9., 27.,  2.,  1.,  1., 14., 31., 16., 20.,  1.]),\n",
       " array([-9.03086187e-05, -7.28559346e-05, -5.54032506e-05, -3.79505666e-05,\n",
       "        -2.04978826e-05, -3.04519858e-06,  1.44074854e-05,  3.18601695e-05,\n",
       "         4.93128535e-05,  6.67655375e-05,  8.42182215e-05]),\n",
       " <a list of 10 Patch objects>)"
      ]
     },
     "execution_count": 27,
     "metadata": {},
     "output_type": "execute_result"
    },
    {
     "data": {
      "image/png": "[encoded data removed]",
      "text/plain": [
       "<Figure size 432x288 with 1 Axes>"
      ]
     },
     "metadata": {
      "needs_background": "light"
     },
     "output_type": "display_data"
    }
   ],
   "source": [
    "plt.hist(df['error'])"
   ]
  },
  {
   "cell_type": "code",
   "execution_count": 28,
   "metadata": {},
   "outputs": [],
   "source": [
    "df.loc[df['error']>2e-4]=0\n",
    "df.loc[df['error']<-2e-4]=0"
   ]
  },
  {
   "cell_type": "code",
   "execution_count": 29,
   "metadata": {},
   "outputs": [
    {
     "data": {
      "text/plain": [
       "8.421822150062042e-05"
      ]
     },
     "execution_count": 29,
     "metadata": {},
     "output_type": "execute_result"
    }
   ],
   "source": [
    "ys.max()"
   ]
  },
  {
   "cell_type": "code",
   "execution_count": null,
   "metadata": {},
   "outputs": [],
   "source": []
  }
 ],
 "metadata": {
  "kernelspec": {
   "display_name": "Python 3",
   "language": "python",
   "name": "python3"
  },
  "language_info": {
   "codemirror_mode": {
    "name": "ipython",
    "version": 3
   },
   "file_extension": ".py",
   "mimetype": "text/x-python",
   "name": "python",
   "nbconvert_exporter": "python",
   "pygments_lexer": "ipython3",
   "version": "3.7.7"
  }
 },
 "nbformat": 4,
 "nbformat_minor": 4
}
